{
 "cells": [
  {
   "cell_type": "markdown",
   "id": "8fdc0b78-7556-4921-8b2b-903556db6fd9",
   "metadata": {},
   "source": [
    "# Load libraries"
   ]
  },
  {
   "cell_type": "code",
   "execution_count": 1,
   "id": "5ec6a610-8f77-42a0-a2e3-699c03f5492b",
   "metadata": {},
   "outputs": [],
   "source": [
    "import pandas as pd\n",
    "import matplotlib.pyplot as plt\n",
    "import numpy as np\n",
    "\n",
    "%matplotlib inline"
   ]
  },
  {
   "cell_type": "code",
   "execution_count": 23,
   "id": "33faf313-8a0d-4dc0-9483-eda8e3f11070",
   "metadata": {},
   "outputs": [],
   "source": [
    "from sklearn.preprocessing import StandardScaler\n",
    "from sklearn.model_selection import train_test_split\n",
    "\n",
    "from sklearn.linear_model import LogisticRegression\n",
    "from sklearn.model_selection import StratifiedKFold, cross_val_score\n",
    "from sklearn.metrics import recall_score\n",
    "from sklearn.metrics import confusion_matrix, ConfusionMatrixDisplay, RocCurveDisplay\n",
    "from sklearn.model_selection import GridSearchCV\n",
    "import seaborn as sns\n",
    "import itertools"
   ]
  },
  {
   "cell_type": "markdown",
   "id": "7807c4ad-d0f8-498b-aabb-fca045be708e",
   "metadata": {},
   "source": [
    "# Acquire data"
   ]
  },
  {
   "cell_type": "markdown",
   "id": "862154f5-aa11-42d0-972a-ae6f975d68e0",
   "metadata": {},
   "source": [
    "The data was acquire in kaggle.com(see references)"
   ]
  },
  {
   "cell_type": "markdown",
   "id": "e05b27ff-faea-4b87-a859-497b3a5df335",
   "metadata": {},
   "source": [
    "* Features V1, V2, ... V28 are the principal components obtained with PCA;"
   ]
  },
  {
   "cell_type": "code",
   "execution_count": 4,
   "id": "041903c1-0100-4309-8280-28abe9b74ea0",
   "metadata": {},
   "outputs": [],
   "source": [
    "data = pd.read_csv('data/creditcard.csv')"
   ]
  },
  {
   "cell_type": "code",
   "execution_count": 5,
   "id": "91435351-696b-461b-acb8-be8425acbf89",
   "metadata": {},
   "outputs": [
    {
     "data": {
      "text/html": [
       "<div>\n",
       "<style scoped>\n",
       "    .dataframe tbody tr th:only-of-type {\n",
       "        vertical-align: middle;\n",
       "    }\n",
       "\n",
       "    .dataframe tbody tr th {\n",
       "        vertical-align: top;\n",
       "    }\n",
       "\n",
       "    .dataframe thead th {\n",
       "        text-align: right;\n",
       "    }\n",
       "</style>\n",
       "<table border=\"1\" class=\"dataframe\">\n",
       "  <thead>\n",
       "    <tr style=\"text-align: right;\">\n",
       "      <th></th>\n",
       "      <th>Time</th>\n",
       "      <th>V1</th>\n",
       "      <th>V2</th>\n",
       "      <th>V3</th>\n",
       "      <th>V4</th>\n",
       "      <th>V5</th>\n",
       "      <th>V6</th>\n",
       "      <th>V7</th>\n",
       "      <th>V8</th>\n",
       "      <th>V9</th>\n",
       "      <th>...</th>\n",
       "      <th>V21</th>\n",
       "      <th>V22</th>\n",
       "      <th>V23</th>\n",
       "      <th>V24</th>\n",
       "      <th>V25</th>\n",
       "      <th>V26</th>\n",
       "      <th>V27</th>\n",
       "      <th>V28</th>\n",
       "      <th>Amount</th>\n",
       "      <th>Class</th>\n",
       "    </tr>\n",
       "  </thead>\n",
       "  <tbody>\n",
       "    <tr>\n",
       "      <th>0</th>\n",
       "      <td>0.0</td>\n",
       "      <td>-1.359807</td>\n",
       "      <td>-0.072781</td>\n",
       "      <td>2.536347</td>\n",
       "      <td>1.378155</td>\n",
       "      <td>-0.338321</td>\n",
       "      <td>0.462388</td>\n",
       "      <td>0.239599</td>\n",
       "      <td>0.098698</td>\n",
       "      <td>0.363787</td>\n",
       "      <td>...</td>\n",
       "      <td>-0.018307</td>\n",
       "      <td>0.277838</td>\n",
       "      <td>-0.110474</td>\n",
       "      <td>0.066928</td>\n",
       "      <td>0.128539</td>\n",
       "      <td>-0.189115</td>\n",
       "      <td>0.133558</td>\n",
       "      <td>-0.021053</td>\n",
       "      <td>149.62</td>\n",
       "      <td>0</td>\n",
       "    </tr>\n",
       "    <tr>\n",
       "      <th>1</th>\n",
       "      <td>0.0</td>\n",
       "      <td>1.191857</td>\n",
       "      <td>0.266151</td>\n",
       "      <td>0.166480</td>\n",
       "      <td>0.448154</td>\n",
       "      <td>0.060018</td>\n",
       "      <td>-0.082361</td>\n",
       "      <td>-0.078803</td>\n",
       "      <td>0.085102</td>\n",
       "      <td>-0.255425</td>\n",
       "      <td>...</td>\n",
       "      <td>-0.225775</td>\n",
       "      <td>-0.638672</td>\n",
       "      <td>0.101288</td>\n",
       "      <td>-0.339846</td>\n",
       "      <td>0.167170</td>\n",
       "      <td>0.125895</td>\n",
       "      <td>-0.008983</td>\n",
       "      <td>0.014724</td>\n",
       "      <td>2.69</td>\n",
       "      <td>0</td>\n",
       "    </tr>\n",
       "    <tr>\n",
       "      <th>2</th>\n",
       "      <td>1.0</td>\n",
       "      <td>-1.358354</td>\n",
       "      <td>-1.340163</td>\n",
       "      <td>1.773209</td>\n",
       "      <td>0.379780</td>\n",
       "      <td>-0.503198</td>\n",
       "      <td>1.800499</td>\n",
       "      <td>0.791461</td>\n",
       "      <td>0.247676</td>\n",
       "      <td>-1.514654</td>\n",
       "      <td>...</td>\n",
       "      <td>0.247998</td>\n",
       "      <td>0.771679</td>\n",
       "      <td>0.909412</td>\n",
       "      <td>-0.689281</td>\n",
       "      <td>-0.327642</td>\n",
       "      <td>-0.139097</td>\n",
       "      <td>-0.055353</td>\n",
       "      <td>-0.059752</td>\n",
       "      <td>378.66</td>\n",
       "      <td>0</td>\n",
       "    </tr>\n",
       "    <tr>\n",
       "      <th>3</th>\n",
       "      <td>1.0</td>\n",
       "      <td>-0.966272</td>\n",
       "      <td>-0.185226</td>\n",
       "      <td>1.792993</td>\n",
       "      <td>-0.863291</td>\n",
       "      <td>-0.010309</td>\n",
       "      <td>1.247203</td>\n",
       "      <td>0.237609</td>\n",
       "      <td>0.377436</td>\n",
       "      <td>-1.387024</td>\n",
       "      <td>...</td>\n",
       "      <td>-0.108300</td>\n",
       "      <td>0.005274</td>\n",
       "      <td>-0.190321</td>\n",
       "      <td>-1.175575</td>\n",
       "      <td>0.647376</td>\n",
       "      <td>-0.221929</td>\n",
       "      <td>0.062723</td>\n",
       "      <td>0.061458</td>\n",
       "      <td>123.50</td>\n",
       "      <td>0</td>\n",
       "    </tr>\n",
       "    <tr>\n",
       "      <th>4</th>\n",
       "      <td>2.0</td>\n",
       "      <td>-1.158233</td>\n",
       "      <td>0.877737</td>\n",
       "      <td>1.548718</td>\n",
       "      <td>0.403034</td>\n",
       "      <td>-0.407193</td>\n",
       "      <td>0.095921</td>\n",
       "      <td>0.592941</td>\n",
       "      <td>-0.270533</td>\n",
       "      <td>0.817739</td>\n",
       "      <td>...</td>\n",
       "      <td>-0.009431</td>\n",
       "      <td>0.798278</td>\n",
       "      <td>-0.137458</td>\n",
       "      <td>0.141267</td>\n",
       "      <td>-0.206010</td>\n",
       "      <td>0.502292</td>\n",
       "      <td>0.219422</td>\n",
       "      <td>0.215153</td>\n",
       "      <td>69.99</td>\n",
       "      <td>0</td>\n",
       "    </tr>\n",
       "  </tbody>\n",
       "</table>\n",
       "<p>5 rows × 31 columns</p>\n",
       "</div>"
      ],
      "text/plain": [
       "   Time        V1        V2        V3        V4        V5        V6        V7  \\\n",
       "0   0.0 -1.359807 -0.072781  2.536347  1.378155 -0.338321  0.462388  0.239599   \n",
       "1   0.0  1.191857  0.266151  0.166480  0.448154  0.060018 -0.082361 -0.078803   \n",
       "2   1.0 -1.358354 -1.340163  1.773209  0.379780 -0.503198  1.800499  0.791461   \n",
       "3   1.0 -0.966272 -0.185226  1.792993 -0.863291 -0.010309  1.247203  0.237609   \n",
       "4   2.0 -1.158233  0.877737  1.548718  0.403034 -0.407193  0.095921  0.592941   \n",
       "\n",
       "         V8        V9  ...       V21       V22       V23       V24       V25  \\\n",
       "0  0.098698  0.363787  ... -0.018307  0.277838 -0.110474  0.066928  0.128539   \n",
       "1  0.085102 -0.255425  ... -0.225775 -0.638672  0.101288 -0.339846  0.167170   \n",
       "2  0.247676 -1.514654  ...  0.247998  0.771679  0.909412 -0.689281 -0.327642   \n",
       "3  0.377436 -1.387024  ... -0.108300  0.005274 -0.190321 -1.175575  0.647376   \n",
       "4 -0.270533  0.817739  ... -0.009431  0.798278 -0.137458  0.141267 -0.206010   \n",
       "\n",
       "        V26       V27       V28  Amount  Class  \n",
       "0 -0.189115  0.133558 -0.021053  149.62      0  \n",
       "1  0.125895 -0.008983  0.014724    2.69      0  \n",
       "2 -0.139097 -0.055353 -0.059752  378.66      0  \n",
       "3 -0.221929  0.062723  0.061458  123.50      0  \n",
       "4  0.502292  0.219422  0.215153   69.99      0  \n",
       "\n",
       "[5 rows x 31 columns]"
      ]
     },
     "execution_count": 5,
     "metadata": {},
     "output_type": "execute_result"
    }
   ],
   "source": [
    "data.head()"
   ]
  },
  {
   "cell_type": "markdown",
   "id": "6a186025-3953-4ed9-a560-97b4cab89ed5",
   "metadata": {},
   "source": [
    "# Analyze by describing data"
   ]
  },
  {
   "cell_type": "markdown",
   "id": "2b8526e2-3da4-4aee-bca4-fd79709e96dc",
   "metadata": {},
   "source": [
    "## Which features are avaliable in the dataset?"
   ]
  },
  {
   "cell_type": "code",
   "execution_count": 5,
   "id": "aa4308bb-e7ae-4efa-8300-96f0b0e10d36",
   "metadata": {},
   "outputs": [
    {
     "data": {
      "text/plain": [
       "array(['Time', 'V1', 'V2', 'V3', 'V4', 'V5', 'V6', 'V7', 'V8', 'V9',\n",
       "       'V10', 'V11', 'V12', 'V13', 'V14', 'V15', 'V16', 'V17', 'V18',\n",
       "       'V19', 'V20', 'V21', 'V22', 'V23', 'V24', 'V25', 'V26', 'V27',\n",
       "       'V28', 'Amount', 'Class'], dtype=object)"
      ]
     },
     "execution_count": 5,
     "metadata": {},
     "output_type": "execute_result"
    }
   ],
   "source": [
    "data.columns.values"
   ]
  },
  {
   "cell_type": "markdown",
   "id": "73c7d7e3-7adc-470a-859c-3ed2af28f5c2",
   "metadata": {},
   "source": [
    "## Which features are categorical?"
   ]
  },
  {
   "cell_type": "markdown",
   "id": "fce655d5-4dbd-406c-bed3-58f616eadf31",
   "metadata": {},
   "source": [
    "categorical: 'Class'"
   ]
  },
  {
   "cell_type": "markdown",
   "id": "f5c9d6e1-fe16-4fdb-a002-eb327994eece",
   "metadata": {},
   "source": [
    "## Which features are numerical?"
   ]
  },
  {
   "cell_type": "markdown",
   "id": "52003a61-d145-48ec-bd19-b822995d3153",
   "metadata": {},
   "source": [
    "Numerical: 'Time', 'V1', 'V2', 'V3', 'V4', 'V5', 'V6', 'V7', 'V8', 'V9',\n",
    "'V10', 'V11', 'V12', 'V13', 'V14', 'V15', 'V16', 'V17', 'V18',\n",
    "'V19', 'V20', 'V21', 'V22', 'V23', 'V24', 'V25', 'V26', 'V27',\n",
    "'V28', 'Amount'"
   ]
  },
  {
   "cell_type": "markdown",
   "id": "36a1babc-8340-41f9-b579-5086fb67b5d9",
   "metadata": {},
   "source": [
    "## Which features are mixed data types?"
   ]
  },
  {
   "cell_type": "markdown",
   "id": "57574bef-a85b-479c-b317-6d2aedfd4c37",
   "metadata": {},
   "source": [
    "None of the features are mixed data types"
   ]
  },
  {
   "cell_type": "markdown",
   "id": "a901f92b-dec5-4a7a-9fc0-773c8d9f142f",
   "metadata": {},
   "source": [
    "## Which features may contain errors or typos?"
   ]
  },
  {
   "cell_type": "markdown",
   "id": "c55b8e2d-ee30-4f9e-9a24-dae6e5c4b0da",
   "metadata": {},
   "source": [
    "there are no errors or typos"
   ]
  },
  {
   "cell_type": "code",
   "execution_count": 9,
   "id": "c31d49d9-d311-4112-8380-ca6421f9271d",
   "metadata": {},
   "outputs": [
    {
     "data": {
      "text/html": [
       "<div>\n",
       "<style scoped>\n",
       "    .dataframe tbody tr th:only-of-type {\n",
       "        vertical-align: middle;\n",
       "    }\n",
       "\n",
       "    .dataframe tbody tr th {\n",
       "        vertical-align: top;\n",
       "    }\n",
       "\n",
       "    .dataframe thead th {\n",
       "        text-align: right;\n",
       "    }\n",
       "</style>\n",
       "<table border=\"1\" class=\"dataframe\">\n",
       "  <thead>\n",
       "    <tr style=\"text-align: right;\">\n",
       "      <th></th>\n",
       "      <th>Time</th>\n",
       "      <th>V1</th>\n",
       "      <th>V2</th>\n",
       "      <th>V3</th>\n",
       "      <th>V4</th>\n",
       "      <th>V5</th>\n",
       "      <th>V6</th>\n",
       "      <th>V7</th>\n",
       "      <th>V8</th>\n",
       "      <th>V9</th>\n",
       "      <th>...</th>\n",
       "      <th>V21</th>\n",
       "      <th>V22</th>\n",
       "      <th>V23</th>\n",
       "      <th>V24</th>\n",
       "      <th>V25</th>\n",
       "      <th>V26</th>\n",
       "      <th>V27</th>\n",
       "      <th>V28</th>\n",
       "      <th>Amount</th>\n",
       "      <th>Class</th>\n",
       "    </tr>\n",
       "  </thead>\n",
       "  <tbody>\n",
       "    <tr>\n",
       "      <th>86157</th>\n",
       "      <td>61109.0</td>\n",
       "      <td>-1.792285</td>\n",
       "      <td>-4.570566</td>\n",
       "      <td>-1.018460</td>\n",
       "      <td>2.333768</td>\n",
       "      <td>-1.793743</td>\n",
       "      <td>0.348518</td>\n",
       "      <td>1.887298</td>\n",
       "      <td>-0.237308</td>\n",
       "      <td>-0.367832</td>\n",
       "      <td>...</td>\n",
       "      <td>0.676582</td>\n",
       "      <td>-1.541985</td>\n",
       "      <td>-1.110851</td>\n",
       "      <td>0.215297</td>\n",
       "      <td>-0.433727</td>\n",
       "      <td>-0.871305</td>\n",
       "      <td>-0.251853</td>\n",
       "      <td>0.281619</td>\n",
       "      <td>1511.35</td>\n",
       "      <td>0</td>\n",
       "    </tr>\n",
       "    <tr>\n",
       "      <th>180835</th>\n",
       "      <td>124718.0</td>\n",
       "      <td>2.127092</td>\n",
       "      <td>-0.104795</td>\n",
       "      <td>-1.510509</td>\n",
       "      <td>0.165098</td>\n",
       "      <td>0.376727</td>\n",
       "      <td>-0.534866</td>\n",
       "      <td>0.131107</td>\n",
       "      <td>-0.228090</td>\n",
       "      <td>0.648924</td>\n",
       "      <td>...</td>\n",
       "      <td>-0.355132</td>\n",
       "      <td>-0.888580</td>\n",
       "      <td>0.220288</td>\n",
       "      <td>-1.069905</td>\n",
       "      <td>-0.181819</td>\n",
       "      <td>0.266895</td>\n",
       "      <td>-0.070533</td>\n",
       "      <td>-0.071655</td>\n",
       "      <td>1.79</td>\n",
       "      <td>0</td>\n",
       "    </tr>\n",
       "    <tr>\n",
       "      <th>187560</th>\n",
       "      <td>127587.0</td>\n",
       "      <td>-2.560439</td>\n",
       "      <td>-3.512565</td>\n",
       "      <td>-1.595612</td>\n",
       "      <td>2.201443</td>\n",
       "      <td>4.898354</td>\n",
       "      <td>-4.083969</td>\n",
       "      <td>-0.912766</td>\n",
       "      <td>-0.146964</td>\n",
       "      <td>-0.239858</td>\n",
       "      <td>...</td>\n",
       "      <td>0.908757</td>\n",
       "      <td>1.509268</td>\n",
       "      <td>0.978461</td>\n",
       "      <td>-0.020605</td>\n",
       "      <td>-0.944762</td>\n",
       "      <td>-0.356543</td>\n",
       "      <td>0.413420</td>\n",
       "      <td>0.495486</td>\n",
       "      <td>106.00</td>\n",
       "      <td>0</td>\n",
       "    </tr>\n",
       "    <tr>\n",
       "      <th>268730</th>\n",
       "      <td>163358.0</td>\n",
       "      <td>1.761507</td>\n",
       "      <td>-0.603768</td>\n",
       "      <td>-2.468300</td>\n",
       "      <td>-0.242980</td>\n",
       "      <td>1.039035</td>\n",
       "      <td>0.350466</td>\n",
       "      <td>0.447401</td>\n",
       "      <td>0.076032</td>\n",
       "      <td>0.261082</td>\n",
       "      <td>...</td>\n",
       "      <td>0.242811</td>\n",
       "      <td>0.554769</td>\n",
       "      <td>-0.087102</td>\n",
       "      <td>-1.621855</td>\n",
       "      <td>0.087885</td>\n",
       "      <td>0.276078</td>\n",
       "      <td>-0.069087</td>\n",
       "      <td>-0.084975</td>\n",
       "      <td>125.99</td>\n",
       "      <td>0</td>\n",
       "    </tr>\n",
       "    <tr>\n",
       "      <th>143382</th>\n",
       "      <td>85313.0</td>\n",
       "      <td>-0.934846</td>\n",
       "      <td>1.203201</td>\n",
       "      <td>1.722838</td>\n",
       "      <td>1.737372</td>\n",
       "      <td>0.445736</td>\n",
       "      <td>0.150310</td>\n",
       "      <td>0.505728</td>\n",
       "      <td>0.150895</td>\n",
       "      <td>-1.267782</td>\n",
       "      <td>...</td>\n",
       "      <td>-0.002729</td>\n",
       "      <td>-0.227170</td>\n",
       "      <td>0.171870</td>\n",
       "      <td>0.147449</td>\n",
       "      <td>-0.818835</td>\n",
       "      <td>-0.412520</td>\n",
       "      <td>-0.247544</td>\n",
       "      <td>0.178423</td>\n",
       "      <td>3.12</td>\n",
       "      <td>0</td>\n",
       "    </tr>\n",
       "  </tbody>\n",
       "</table>\n",
       "<p>5 rows × 31 columns</p>\n",
       "</div>"
      ],
      "text/plain": [
       "            Time        V1        V2        V3        V4        V5        V6  \\\n",
       "86157    61109.0 -1.792285 -4.570566 -1.018460  2.333768 -1.793743  0.348518   \n",
       "180835  124718.0  2.127092 -0.104795 -1.510509  0.165098  0.376727 -0.534866   \n",
       "187560  127587.0 -2.560439 -3.512565 -1.595612  2.201443  4.898354 -4.083969   \n",
       "268730  163358.0  1.761507 -0.603768 -2.468300 -0.242980  1.039035  0.350466   \n",
       "143382   85313.0 -0.934846  1.203201  1.722838  1.737372  0.445736  0.150310   \n",
       "\n",
       "              V7        V8        V9  ...       V21       V22       V23  \\\n",
       "86157   1.887298 -0.237308 -0.367832  ...  0.676582 -1.541985 -1.110851   \n",
       "180835  0.131107 -0.228090  0.648924  ... -0.355132 -0.888580  0.220288   \n",
       "187560 -0.912766 -0.146964 -0.239858  ...  0.908757  1.509268  0.978461   \n",
       "268730  0.447401  0.076032  0.261082  ...  0.242811  0.554769 -0.087102   \n",
       "143382  0.505728  0.150895 -1.267782  ... -0.002729 -0.227170  0.171870   \n",
       "\n",
       "             V24       V25       V26       V27       V28   Amount  Class  \n",
       "86157   0.215297 -0.433727 -0.871305 -0.251853  0.281619  1511.35      0  \n",
       "180835 -1.069905 -0.181819  0.266895 -0.070533 -0.071655     1.79      0  \n",
       "187560 -0.020605 -0.944762 -0.356543  0.413420  0.495486   106.00      0  \n",
       "268730 -1.621855  0.087885  0.276078 -0.069087 -0.084975   125.99      0  \n",
       "143382  0.147449 -0.818835 -0.412520 -0.247544  0.178423     3.12      0  \n",
       "\n",
       "[5 rows x 31 columns]"
      ]
     },
     "execution_count": 9,
     "metadata": {},
     "output_type": "execute_result"
    }
   ],
   "source": [
    "data.sample(5)"
   ]
  },
  {
   "cell_type": "markdown",
   "id": "b5c22f6d-13d6-4033-b4bb-250cc24aa20b",
   "metadata": {},
   "source": [
    "## Which features contain null, blank or empty values?"
   ]
  },
  {
   "cell_type": "markdown",
   "id": "554deaa7-286d-491c-b474-ae0ca4338e8e",
   "metadata": {},
   "source": [
    "there are no null, blank or empty values"
   ]
  },
  {
   "cell_type": "code",
   "execution_count": 10,
   "id": "2e05e916-1918-46bd-a3f6-bd44fc38b0bf",
   "metadata": {},
   "outputs": [
    {
     "data": {
      "text/plain": [
       "Time      0.0\n",
       "V1        0.0\n",
       "V2        0.0\n",
       "V3        0.0\n",
       "V4        0.0\n",
       "V5        0.0\n",
       "V6        0.0\n",
       "V7        0.0\n",
       "V8        0.0\n",
       "V9        0.0\n",
       "V10       0.0\n",
       "V11       0.0\n",
       "V12       0.0\n",
       "V13       0.0\n",
       "V14       0.0\n",
       "V15       0.0\n",
       "V16       0.0\n",
       "V17       0.0\n",
       "V18       0.0\n",
       "V19       0.0\n",
       "V20       0.0\n",
       "V21       0.0\n",
       "V22       0.0\n",
       "V23       0.0\n",
       "V24       0.0\n",
       "V25       0.0\n",
       "V26       0.0\n",
       "V27       0.0\n",
       "V28       0.0\n",
       "Amount    0.0\n",
       "Class     0.0\n",
       "dtype: float64"
      ]
     },
     "execution_count": 10,
     "metadata": {},
     "output_type": "execute_result"
    }
   ],
   "source": [
    "data.isnull().sum()/data.shape[0]*100"
   ]
  },
  {
   "cell_type": "markdown",
   "id": "cd6a2c5c-fdd3-496b-9f75-47c5db1bcf71",
   "metadata": {},
   "source": [
    "## What are the data types?"
   ]
  },
  {
   "cell_type": "markdown",
   "id": "fa468a7e-2962-4fda-a844-5b3e68266ca1",
   "metadata": {},
   "source": [
    "30 floats type and 1 integer type"
   ]
  },
  {
   "cell_type": "code",
   "execution_count": 13,
   "id": "af8c0e0e-2a1b-4d0b-824a-fdace2b6a2ae",
   "metadata": {},
   "outputs": [
    {
     "data": {
      "text/plain": [
       "Time      float64\n",
       "V1        float64\n",
       "V2        float64\n",
       "V3        float64\n",
       "V4        float64\n",
       "V5        float64\n",
       "V6        float64\n",
       "V7        float64\n",
       "V8        float64\n",
       "V9        float64\n",
       "V10       float64\n",
       "V11       float64\n",
       "V12       float64\n",
       "V13       float64\n",
       "V14       float64\n",
       "V15       float64\n",
       "V16       float64\n",
       "V17       float64\n",
       "V18       float64\n",
       "V19       float64\n",
       "V20       float64\n",
       "V21       float64\n",
       "V22       float64\n",
       "V23       float64\n",
       "V24       float64\n",
       "V25       float64\n",
       "V26       float64\n",
       "V27       float64\n",
       "V28       float64\n",
       "Amount    float64\n",
       "Class       int64\n",
       "dtype: object"
      ]
     },
     "execution_count": 13,
     "metadata": {},
     "output_type": "execute_result"
    }
   ],
   "source": [
    "data.dtypes"
   ]
  },
  {
   "cell_type": "markdown",
   "id": "43b370bf-7c17-465d-8a93-d5b374e4d2bd",
   "metadata": {},
   "source": [
    "## What is the distribution of numerical features values across the sample?"
   ]
  },
  {
   "cell_type": "markdown",
   "id": "ebc61eea-e3f6-4663-8c18-a75cf4a2f668",
   "metadata": {},
   "source": [
    "* 80% of the amount are less than 100\n",
    "* there are 492 cases of 'Class' == 1"
   ]
  },
  {
   "cell_type": "code",
   "execution_count": 14,
   "id": "cc3619a8-30db-4c26-8549-e02680a38351",
   "metadata": {},
   "outputs": [
    {
     "data": {
      "text/html": [
       "<div>\n",
       "<style scoped>\n",
       "    .dataframe tbody tr th:only-of-type {\n",
       "        vertical-align: middle;\n",
       "    }\n",
       "\n",
       "    .dataframe tbody tr th {\n",
       "        vertical-align: top;\n",
       "    }\n",
       "\n",
       "    .dataframe thead th {\n",
       "        text-align: right;\n",
       "    }\n",
       "</style>\n",
       "<table border=\"1\" class=\"dataframe\">\n",
       "  <thead>\n",
       "    <tr style=\"text-align: right;\">\n",
       "      <th></th>\n",
       "      <th>Time</th>\n",
       "      <th>V1</th>\n",
       "      <th>V2</th>\n",
       "      <th>V3</th>\n",
       "      <th>V4</th>\n",
       "      <th>V5</th>\n",
       "      <th>V6</th>\n",
       "      <th>V7</th>\n",
       "      <th>V8</th>\n",
       "      <th>V9</th>\n",
       "      <th>...</th>\n",
       "      <th>V21</th>\n",
       "      <th>V22</th>\n",
       "      <th>V23</th>\n",
       "      <th>V24</th>\n",
       "      <th>V25</th>\n",
       "      <th>V26</th>\n",
       "      <th>V27</th>\n",
       "      <th>V28</th>\n",
       "      <th>Amount</th>\n",
       "      <th>Class</th>\n",
       "    </tr>\n",
       "  </thead>\n",
       "  <tbody>\n",
       "    <tr>\n",
       "      <th>count</th>\n",
       "      <td>284807.000000</td>\n",
       "      <td>2.848070e+05</td>\n",
       "      <td>2.848070e+05</td>\n",
       "      <td>2.848070e+05</td>\n",
       "      <td>2.848070e+05</td>\n",
       "      <td>2.848070e+05</td>\n",
       "      <td>2.848070e+05</td>\n",
       "      <td>2.848070e+05</td>\n",
       "      <td>2.848070e+05</td>\n",
       "      <td>2.848070e+05</td>\n",
       "      <td>...</td>\n",
       "      <td>2.848070e+05</td>\n",
       "      <td>2.848070e+05</td>\n",
       "      <td>2.848070e+05</td>\n",
       "      <td>2.848070e+05</td>\n",
       "      <td>2.848070e+05</td>\n",
       "      <td>2.848070e+05</td>\n",
       "      <td>2.848070e+05</td>\n",
       "      <td>2.848070e+05</td>\n",
       "      <td>284807.000000</td>\n",
       "      <td>284807.000000</td>\n",
       "    </tr>\n",
       "    <tr>\n",
       "      <th>mean</th>\n",
       "      <td>94813.859575</td>\n",
       "      <td>1.168375e-15</td>\n",
       "      <td>3.416908e-16</td>\n",
       "      <td>-1.379537e-15</td>\n",
       "      <td>2.074095e-15</td>\n",
       "      <td>9.604066e-16</td>\n",
       "      <td>1.487313e-15</td>\n",
       "      <td>-5.556467e-16</td>\n",
       "      <td>1.213481e-16</td>\n",
       "      <td>-2.406331e-15</td>\n",
       "      <td>...</td>\n",
       "      <td>1.654067e-16</td>\n",
       "      <td>-3.568593e-16</td>\n",
       "      <td>2.578648e-16</td>\n",
       "      <td>4.473266e-15</td>\n",
       "      <td>5.340915e-16</td>\n",
       "      <td>1.683437e-15</td>\n",
       "      <td>-3.660091e-16</td>\n",
       "      <td>-1.227390e-16</td>\n",
       "      <td>88.349619</td>\n",
       "      <td>0.001727</td>\n",
       "    </tr>\n",
       "    <tr>\n",
       "      <th>std</th>\n",
       "      <td>47488.145955</td>\n",
       "      <td>1.958696e+00</td>\n",
       "      <td>1.651309e+00</td>\n",
       "      <td>1.516255e+00</td>\n",
       "      <td>1.415869e+00</td>\n",
       "      <td>1.380247e+00</td>\n",
       "      <td>1.332271e+00</td>\n",
       "      <td>1.237094e+00</td>\n",
       "      <td>1.194353e+00</td>\n",
       "      <td>1.098632e+00</td>\n",
       "      <td>...</td>\n",
       "      <td>7.345240e-01</td>\n",
       "      <td>7.257016e-01</td>\n",
       "      <td>6.244603e-01</td>\n",
       "      <td>6.056471e-01</td>\n",
       "      <td>5.212781e-01</td>\n",
       "      <td>4.822270e-01</td>\n",
       "      <td>4.036325e-01</td>\n",
       "      <td>3.300833e-01</td>\n",
       "      <td>250.120109</td>\n",
       "      <td>0.041527</td>\n",
       "    </tr>\n",
       "    <tr>\n",
       "      <th>min</th>\n",
       "      <td>0.000000</td>\n",
       "      <td>-5.640751e+01</td>\n",
       "      <td>-7.271573e+01</td>\n",
       "      <td>-4.832559e+01</td>\n",
       "      <td>-5.683171e+00</td>\n",
       "      <td>-1.137433e+02</td>\n",
       "      <td>-2.616051e+01</td>\n",
       "      <td>-4.355724e+01</td>\n",
       "      <td>-7.321672e+01</td>\n",
       "      <td>-1.343407e+01</td>\n",
       "      <td>...</td>\n",
       "      <td>-3.483038e+01</td>\n",
       "      <td>-1.093314e+01</td>\n",
       "      <td>-4.480774e+01</td>\n",
       "      <td>-2.836627e+00</td>\n",
       "      <td>-1.029540e+01</td>\n",
       "      <td>-2.604551e+00</td>\n",
       "      <td>-2.256568e+01</td>\n",
       "      <td>-1.543008e+01</td>\n",
       "      <td>0.000000</td>\n",
       "      <td>0.000000</td>\n",
       "    </tr>\n",
       "    <tr>\n",
       "      <th>20%</th>\n",
       "      <td>47694.200000</td>\n",
       "      <td>-1.134663e+00</td>\n",
       "      <td>-7.908142e-01</td>\n",
       "      <td>-1.169050e+00</td>\n",
       "      <td>-1.066085e+00</td>\n",
       "      <td>-8.595815e-01</td>\n",
       "      <td>-8.781527e-01</td>\n",
       "      <td>-6.833164e-01</td>\n",
       "      <td>-2.662999e-01</td>\n",
       "      <td>-8.088755e-01</td>\n",
       "      <td>...</td>\n",
       "      <td>-2.663929e-01</td>\n",
       "      <td>-6.416046e-01</td>\n",
       "      <td>-2.037425e-01</td>\n",
       "      <td>-4.442769e-01</td>\n",
       "      <td>-3.917190e-01</td>\n",
       "      <td>-3.895481e-01</td>\n",
       "      <td>-9.111428e-02</td>\n",
       "      <td>-6.544115e-02</td>\n",
       "      <td>3.570000</td>\n",
       "      <td>0.000000</td>\n",
       "    </tr>\n",
       "    <tr>\n",
       "      <th>40%</th>\n",
       "      <td>73261.400000</td>\n",
       "      <td>-4.267559e-01</td>\n",
       "      <td>-1.538049e-01</td>\n",
       "      <td>-1.990610e-01</td>\n",
       "      <td>-3.941610e-01</td>\n",
       "      <td>-2.901118e-01</td>\n",
       "      <td>-4.794725e-01</td>\n",
       "      <td>-1.593408e-01</td>\n",
       "      <td>-6.605715e-02</td>\n",
       "      <td>-2.577302e-01</td>\n",
       "      <td>...</td>\n",
       "      <td>-1.064266e-01</td>\n",
       "      <td>-2.018541e-01</td>\n",
       "      <td>-6.512670e-02</td>\n",
       "      <td>-4.580667e-02</td>\n",
       "      <td>-1.288661e-01</td>\n",
       "      <td>-1.663338e-01</td>\n",
       "      <td>-2.436683e-02</td>\n",
       "      <td>-1.195983e-02</td>\n",
       "      <td>13.000000</td>\n",
       "      <td>0.000000</td>\n",
       "    </tr>\n",
       "    <tr>\n",
       "      <th>50%</th>\n",
       "      <td>84692.000000</td>\n",
       "      <td>1.810880e-02</td>\n",
       "      <td>6.548556e-02</td>\n",
       "      <td>1.798463e-01</td>\n",
       "      <td>-1.984653e-02</td>\n",
       "      <td>-5.433583e-02</td>\n",
       "      <td>-2.741871e-01</td>\n",
       "      <td>4.010308e-02</td>\n",
       "      <td>2.235804e-02</td>\n",
       "      <td>-5.142873e-02</td>\n",
       "      <td>...</td>\n",
       "      <td>-2.945017e-02</td>\n",
       "      <td>6.781943e-03</td>\n",
       "      <td>-1.119293e-02</td>\n",
       "      <td>4.097606e-02</td>\n",
       "      <td>1.659350e-02</td>\n",
       "      <td>-5.213911e-02</td>\n",
       "      <td>1.342146e-03</td>\n",
       "      <td>1.124383e-02</td>\n",
       "      <td>22.000000</td>\n",
       "      <td>0.000000</td>\n",
       "    </tr>\n",
       "    <tr>\n",
       "      <th>60%</th>\n",
       "      <td>120396.000000</td>\n",
       "      <td>1.035107e+00</td>\n",
       "      <td>3.027378e-01</td>\n",
       "      <td>4.970396e-01</td>\n",
       "      <td>2.848562e-01</td>\n",
       "      <td>1.866249e-01</td>\n",
       "      <td>-4.819964e-02</td>\n",
       "      <td>2.135123e-01</td>\n",
       "      <td>1.204889e-01</td>\n",
       "      <td>1.761695e-01</td>\n",
       "      <td>...</td>\n",
       "      <td>5.038722e-02</td>\n",
       "      <td>2.005957e-01</td>\n",
       "      <td>4.484023e-02</td>\n",
       "      <td>1.664115e-01</td>\n",
       "      <td>1.586211e-01</td>\n",
       "      <td>8.611185e-02</td>\n",
       "      <td>2.922621e-02</td>\n",
       "      <td>2.692801e-02</td>\n",
       "      <td>37.000000</td>\n",
       "      <td>0.000000</td>\n",
       "    </tr>\n",
       "    <tr>\n",
       "      <th>80%</th>\n",
       "      <td>145247.800000</td>\n",
       "      <td>1.694936e+00</td>\n",
       "      <td>9.573136e-01</td>\n",
       "      <td>1.215700e+00</td>\n",
       "      <td>9.861875e-01</td>\n",
       "      <td>8.022349e-01</td>\n",
       "      <td>6.289952e-01</td>\n",
       "      <td>6.983318e-01</td>\n",
       "      <td>4.355289e-01</td>\n",
       "      <td>7.915832e-01</td>\n",
       "      <td>...</td>\n",
       "      <td>2.354311e-01</td>\n",
       "      <td>6.485158e-01</td>\n",
       "      <td>1.942589e-01</td>\n",
       "      <td>5.323465e-01</td>\n",
       "      <td>4.175428e-01</td>\n",
       "      <td>3.602736e-01</td>\n",
       "      <td>1.352785e-01</td>\n",
       "      <td>1.013742e-01</td>\n",
       "      <td>100.000000</td>\n",
       "      <td>0.000000</td>\n",
       "    </tr>\n",
       "    <tr>\n",
       "      <th>max</th>\n",
       "      <td>172792.000000</td>\n",
       "      <td>2.454930e+00</td>\n",
       "      <td>2.205773e+01</td>\n",
       "      <td>9.382558e+00</td>\n",
       "      <td>1.687534e+01</td>\n",
       "      <td>3.480167e+01</td>\n",
       "      <td>7.330163e+01</td>\n",
       "      <td>1.205895e+02</td>\n",
       "      <td>2.000721e+01</td>\n",
       "      <td>1.559499e+01</td>\n",
       "      <td>...</td>\n",
       "      <td>2.720284e+01</td>\n",
       "      <td>1.050309e+01</td>\n",
       "      <td>2.252841e+01</td>\n",
       "      <td>4.584549e+00</td>\n",
       "      <td>7.519589e+00</td>\n",
       "      <td>3.517346e+00</td>\n",
       "      <td>3.161220e+01</td>\n",
       "      <td>3.384781e+01</td>\n",
       "      <td>25691.160000</td>\n",
       "      <td>1.000000</td>\n",
       "    </tr>\n",
       "  </tbody>\n",
       "</table>\n",
       "<p>10 rows × 31 columns</p>\n",
       "</div>"
      ],
      "text/plain": [
       "                Time            V1            V2            V3            V4  \\\n",
       "count  284807.000000  2.848070e+05  2.848070e+05  2.848070e+05  2.848070e+05   \n",
       "mean    94813.859575  1.168375e-15  3.416908e-16 -1.379537e-15  2.074095e-15   \n",
       "std     47488.145955  1.958696e+00  1.651309e+00  1.516255e+00  1.415869e+00   \n",
       "min         0.000000 -5.640751e+01 -7.271573e+01 -4.832559e+01 -5.683171e+00   \n",
       "20%     47694.200000 -1.134663e+00 -7.908142e-01 -1.169050e+00 -1.066085e+00   \n",
       "40%     73261.400000 -4.267559e-01 -1.538049e-01 -1.990610e-01 -3.941610e-01   \n",
       "50%     84692.000000  1.810880e-02  6.548556e-02  1.798463e-01 -1.984653e-02   \n",
       "60%    120396.000000  1.035107e+00  3.027378e-01  4.970396e-01  2.848562e-01   \n",
       "80%    145247.800000  1.694936e+00  9.573136e-01  1.215700e+00  9.861875e-01   \n",
       "max    172792.000000  2.454930e+00  2.205773e+01  9.382558e+00  1.687534e+01   \n",
       "\n",
       "                 V5            V6            V7            V8            V9  \\\n",
       "count  2.848070e+05  2.848070e+05  2.848070e+05  2.848070e+05  2.848070e+05   \n",
       "mean   9.604066e-16  1.487313e-15 -5.556467e-16  1.213481e-16 -2.406331e-15   \n",
       "std    1.380247e+00  1.332271e+00  1.237094e+00  1.194353e+00  1.098632e+00   \n",
       "min   -1.137433e+02 -2.616051e+01 -4.355724e+01 -7.321672e+01 -1.343407e+01   \n",
       "20%   -8.595815e-01 -8.781527e-01 -6.833164e-01 -2.662999e-01 -8.088755e-01   \n",
       "40%   -2.901118e-01 -4.794725e-01 -1.593408e-01 -6.605715e-02 -2.577302e-01   \n",
       "50%   -5.433583e-02 -2.741871e-01  4.010308e-02  2.235804e-02 -5.142873e-02   \n",
       "60%    1.866249e-01 -4.819964e-02  2.135123e-01  1.204889e-01  1.761695e-01   \n",
       "80%    8.022349e-01  6.289952e-01  6.983318e-01  4.355289e-01  7.915832e-01   \n",
       "max    3.480167e+01  7.330163e+01  1.205895e+02  2.000721e+01  1.559499e+01   \n",
       "\n",
       "       ...           V21           V22           V23           V24  \\\n",
       "count  ...  2.848070e+05  2.848070e+05  2.848070e+05  2.848070e+05   \n",
       "mean   ...  1.654067e-16 -3.568593e-16  2.578648e-16  4.473266e-15   \n",
       "std    ...  7.345240e-01  7.257016e-01  6.244603e-01  6.056471e-01   \n",
       "min    ... -3.483038e+01 -1.093314e+01 -4.480774e+01 -2.836627e+00   \n",
       "20%    ... -2.663929e-01 -6.416046e-01 -2.037425e-01 -4.442769e-01   \n",
       "40%    ... -1.064266e-01 -2.018541e-01 -6.512670e-02 -4.580667e-02   \n",
       "50%    ... -2.945017e-02  6.781943e-03 -1.119293e-02  4.097606e-02   \n",
       "60%    ...  5.038722e-02  2.005957e-01  4.484023e-02  1.664115e-01   \n",
       "80%    ...  2.354311e-01  6.485158e-01  1.942589e-01  5.323465e-01   \n",
       "max    ...  2.720284e+01  1.050309e+01  2.252841e+01  4.584549e+00   \n",
       "\n",
       "                V25           V26           V27           V28         Amount  \\\n",
       "count  2.848070e+05  2.848070e+05  2.848070e+05  2.848070e+05  284807.000000   \n",
       "mean   5.340915e-16  1.683437e-15 -3.660091e-16 -1.227390e-16      88.349619   \n",
       "std    5.212781e-01  4.822270e-01  4.036325e-01  3.300833e-01     250.120109   \n",
       "min   -1.029540e+01 -2.604551e+00 -2.256568e+01 -1.543008e+01       0.000000   \n",
       "20%   -3.917190e-01 -3.895481e-01 -9.111428e-02 -6.544115e-02       3.570000   \n",
       "40%   -1.288661e-01 -1.663338e-01 -2.436683e-02 -1.195983e-02      13.000000   \n",
       "50%    1.659350e-02 -5.213911e-02  1.342146e-03  1.124383e-02      22.000000   \n",
       "60%    1.586211e-01  8.611185e-02  2.922621e-02  2.692801e-02      37.000000   \n",
       "80%    4.175428e-01  3.602736e-01  1.352785e-01  1.013742e-01     100.000000   \n",
       "max    7.519589e+00  3.517346e+00  3.161220e+01  3.384781e+01   25691.160000   \n",
       "\n",
       "               Class  \n",
       "count  284807.000000  \n",
       "mean        0.001727  \n",
       "std         0.041527  \n",
       "min         0.000000  \n",
       "20%         0.000000  \n",
       "40%         0.000000  \n",
       "50%         0.000000  \n",
       "60%         0.000000  \n",
       "80%         0.000000  \n",
       "max         1.000000  \n",
       "\n",
       "[10 rows x 31 columns]"
      ]
     },
     "execution_count": 14,
     "metadata": {},
     "output_type": "execute_result"
    }
   ],
   "source": [
    "data.describe(percentiles=[.2, .4, .6, .8])"
   ]
  },
  {
   "cell_type": "code",
   "execution_count": 39,
   "id": "6dde6b39-32e5-4617-81ee-2dd7c0e25702",
   "metadata": {},
   "outputs": [
    {
     "data": {
      "text/plain": [
       "0    284315\n",
       "1       492\n",
       "Name: Class, dtype: int64"
      ]
     },
     "execution_count": 39,
     "metadata": {},
     "output_type": "execute_result"
    }
   ],
   "source": [
    "count_classes = pd.value_counts(data['Class'], sort = True).sort_index()\n",
    "count_classes"
   ]
  },
  {
   "cell_type": "markdown",
   "id": "b7d1a9f5-2e5a-4db7-9d55-3de4824dc2a8",
   "metadata": {},
   "source": [
    "## What is the distribution of categorical features?"
   ]
  },
  {
   "cell_type": "markdown",
   "id": "5666a346-03b8-40f1-bba8-2faf072fd7e5",
   "metadata": {},
   "source": [
    "Class is a categorical feature, but it was seen before"
   ]
  },
  {
   "cell_type": "markdown",
   "id": "1379fc1c-5328-468d-a2d5-27da7f139bf3",
   "metadata": {},
   "source": [
    "# Assumptions based on data analysis"
   ]
  },
  {
   "cell_type": "markdown",
   "id": "c9e72fe1-f051-49e9-88d5-49a761e4ac79",
   "metadata": {},
   "source": [
    "## Correlating"
   ]
  },
  {
   "cell_type": "markdown",
   "id": "e6bf3ef1-dc44-41c6-b6f4-066b11d425a2",
   "metadata": {},
   "source": [
    "We want to know how well does each feature correlate with 'Class'"
   ]
  },
  {
   "cell_type": "markdown",
   "id": "c4acb535-5ca8-4401-9854-3a56a0ac6216",
   "metadata": {},
   "source": [
    "## Completing"
   ]
  },
  {
   "cell_type": "markdown",
   "id": "deea6a31-564d-4b66-bb0f-d245bdf16be1",
   "metadata": {},
   "source": [
    "There are no features values for completing"
   ]
  },
  {
   "cell_type": "markdown",
   "id": "5cab9aab-34eb-4f64-a54e-ae87818b4585",
   "metadata": {},
   "source": [
    "## Correcting"
   ]
  },
  {
   "cell_type": "markdown",
   "id": "9b9429f7-f14a-4413-992e-40bf25bd68a1",
   "metadata": {},
   "source": [
    "We may want to rescale time and amount, since features v1-v28 are all made of PCA transformations and don't need to be rescale."
   ]
  },
  {
   "cell_type": "markdown",
   "id": "b5d1c91d-9843-4938-a143-6eebda65ae2a",
   "metadata": {},
   "source": [
    "## Creating"
   ]
  },
  {
   "cell_type": "markdown",
   "id": "aa0f041d-70e0-400f-b530-55cef5b1cb92",
   "metadata": {},
   "source": [
    "Apparently there are no need for creating new features."
   ]
  },
  {
   "cell_type": "markdown",
   "id": "bf18d6ef-e44b-4713-9841-32f4f966f19e",
   "metadata": {},
   "source": [
    "## Classifing"
   ]
  },
  {
   "cell_type": "markdown",
   "id": "035f8242-cb9f-48cd-8fca-c4b1068e8a90",
   "metadata": {},
   "source": [
    "We may also add a assumption that amount can be very small for frauds "
   ]
  },
  {
   "cell_type": "markdown",
   "id": "515289a9-1ed6-4d02-a6ee-4c75fc2d9e3c",
   "metadata": {},
   "source": [
    "# Analyse by visualizing data"
   ]
  },
  {
   "cell_type": "markdown",
   "id": "6bcfe5bf-4a8d-4af5-a878-8a8642a43640",
   "metadata": {},
   "source": [
    "## Correlating numerical feature"
   ]
  },
  {
   "cell_type": "markdown",
   "id": "de77f347-a4f2-4503-b81a-916026cb6caa",
   "metadata": {},
   "source": [
    "<b>Observations</b>\n",
    "* Time & V3 (-0.42)\n",
    "* Amount & V2 (-0.53)\n",
    "* Amount & V4 (0.4)"
   ]
  },
  {
   "cell_type": "markdown",
   "id": "02b9deab-0afb-49c0-b79a-63914f599dfa",
   "metadata": {},
   "source": [
    "While these correlations are high, I don't expect it to run the risk of multicollinearity."
   ]
  },
  {
   "cell_type": "code",
   "execution_count": 60,
   "id": "6cdf72bb-3787-4367-a3d9-430b5589cd25",
   "metadata": {},
   "outputs": [
    {
     "data": {
      "image/png": "[encoded data removed]",
      "text/plain": [
       "<Figure size 1440x1800 with 30 Axes>"
      ]
     },
     "metadata": {
      "needs_background": "light"
     },
     "output_type": "display_data"
    }
   ],
   "source": [
    "columns = ['Time', 'V1', 'V2', 'V3', 'V4', 'V5', 'V6', 'V7', 'V8', 'V9',\n",
    "           'V10', 'V11', 'V12', 'V13', 'V14', 'V15', 'V16', 'V17', 'V18',\n",
    "           'V19', 'V20', 'V21', 'V22', 'V23', 'V24', 'V25', 'V26', 'V27',\n",
    "           'V28', 'Amount']\n",
    "\n",
    "fig, axs = plt.subplots(ncols=5, nrows=6, figsize=(20,25))\n",
    "\n",
    "count = 0\n",
    "for i in range(5):\n",
    "    for j in range(6):\n",
    "        sns.kdeplot(x=columns[count], hue='Class',common_norm=False, data=data, ax=axs[j, i])\n",
    "        count += 1\n",
    "        \n",
    "plt.show();"
   ]
  },
  {
   "cell_type": "code",
   "execution_count": 61,
   "id": "3f8f5f90-b09f-4ebc-9e43-5c9195261e0e",
   "metadata": {},
   "outputs": [
    {
     "data": {
      "image/png": "[encoded data removed]",
      "text/plain": [
       "<Figure size 720x720 with 2 Axes>"
      ]
     },
     "metadata": {
      "needs_background": "light"
     },
     "output_type": "display_data"
    }
   ],
   "source": [
    "plt.figure(figsize=(10,10))\n",
    "sns.heatmap(data=data.corr(), cmap=\"seismic\")\n",
    "plt.show();"
   ]
  },
  {
   "cell_type": "code",
   "execution_count": 62,
   "id": "4a31ceff-007b-4b7d-bdc3-bcf0732a16b5",
   "metadata": {},
   "outputs": [
    {
     "data": {
      "text/plain": [
       "V17      -0.326481\n",
       "V14      -0.302544\n",
       "V12      -0.260593\n",
       "V10      -0.216883\n",
       "V16      -0.196539\n",
       "V3       -0.192961\n",
       "V7       -0.187257\n",
       "V18      -0.111485\n",
       "V1       -0.101347\n",
       "V9       -0.097733\n",
       "V5       -0.094974\n",
       "V6       -0.043643\n",
       "Time     -0.012323\n",
       "V24      -0.007221\n",
       "V13      -0.004570\n",
       "V15      -0.004223\n",
       "V23      -0.002685\n",
       "V22       0.000805\n",
       "V25       0.003308\n",
       "V26       0.004455\n",
       "Amount    0.005632\n",
       "V28       0.009536\n",
       "V27       0.017580\n",
       "V8        0.019875\n",
       "V20       0.020090\n",
       "V19       0.034783\n",
       "V21       0.040413\n",
       "V2        0.091289\n",
       "V4        0.133447\n",
       "V11       0.154876\n",
       "Class     1.000000\n",
       "Name: Class, dtype: float64"
      ]
     },
     "execution_count": 62,
     "metadata": {},
     "output_type": "execute_result"
    }
   ],
   "source": [
    "data.corr()['Class'].sort_values()"
   ]
  },
  {
   "cell_type": "markdown",
   "id": "582df41d-d844-499f-a721-696e3401a62f",
   "metadata": {},
   "source": [
    "# Wrangle data"
   ]
  },
  {
   "cell_type": "markdown",
   "id": "3d430f74-d682-4bf3-af97-573c0132e9ba",
   "metadata": {},
   "source": [
    "Let us now execute our decisions and assumptions for correcting, creating and completing goal"
   ]
  },
  {
   "cell_type": "markdown",
   "id": "17707a2b-4c87-4893-a504-c373eecf8eae",
   "metadata": {},
   "source": [
    "## Correcting the scale"
   ]
  },
  {
   "cell_type": "code",
   "execution_count": 6,
   "id": "78fe0959-6fcf-49c4-a9c8-a0f5bedd7ab7",
   "metadata": {},
   "outputs": [
    {
     "data": {
      "text/html": [
       "<div>\n",
       "<style scoped>\n",
       "    .dataframe tbody tr th:only-of-type {\n",
       "        vertical-align: middle;\n",
       "    }\n",
       "\n",
       "    .dataframe tbody tr th {\n",
       "        vertical-align: top;\n",
       "    }\n",
       "\n",
       "    .dataframe thead th {\n",
       "        text-align: right;\n",
       "    }\n",
       "</style>\n",
       "<table border=\"1\" class=\"dataframe\">\n",
       "  <thead>\n",
       "    <tr style=\"text-align: right;\">\n",
       "      <th></th>\n",
       "      <th>V1</th>\n",
       "      <th>V2</th>\n",
       "      <th>V3</th>\n",
       "      <th>V4</th>\n",
       "      <th>V5</th>\n",
       "      <th>V6</th>\n",
       "      <th>V7</th>\n",
       "      <th>V8</th>\n",
       "      <th>V9</th>\n",
       "      <th>V10</th>\n",
       "      <th>...</th>\n",
       "      <th>V22</th>\n",
       "      <th>V23</th>\n",
       "      <th>V24</th>\n",
       "      <th>V25</th>\n",
       "      <th>V26</th>\n",
       "      <th>V27</th>\n",
       "      <th>V28</th>\n",
       "      <th>Class</th>\n",
       "      <th>normAmount</th>\n",
       "      <th>normTime</th>\n",
       "    </tr>\n",
       "  </thead>\n",
       "  <tbody>\n",
       "    <tr>\n",
       "      <th>0</th>\n",
       "      <td>-1.359807</td>\n",
       "      <td>-0.072781</td>\n",
       "      <td>2.536347</td>\n",
       "      <td>1.378155</td>\n",
       "      <td>-0.338321</td>\n",
       "      <td>0.462388</td>\n",
       "      <td>0.239599</td>\n",
       "      <td>0.098698</td>\n",
       "      <td>0.363787</td>\n",
       "      <td>0.090794</td>\n",
       "      <td>...</td>\n",
       "      <td>0.277838</td>\n",
       "      <td>-0.110474</td>\n",
       "      <td>0.066928</td>\n",
       "      <td>0.128539</td>\n",
       "      <td>-0.189115</td>\n",
       "      <td>0.133558</td>\n",
       "      <td>-0.021053</td>\n",
       "      <td>0</td>\n",
       "      <td>0.244964</td>\n",
       "      <td>0.244964</td>\n",
       "    </tr>\n",
       "    <tr>\n",
       "      <th>1</th>\n",
       "      <td>1.191857</td>\n",
       "      <td>0.266151</td>\n",
       "      <td>0.166480</td>\n",
       "      <td>0.448154</td>\n",
       "      <td>0.060018</td>\n",
       "      <td>-0.082361</td>\n",
       "      <td>-0.078803</td>\n",
       "      <td>0.085102</td>\n",
       "      <td>-0.255425</td>\n",
       "      <td>-0.166974</td>\n",
       "      <td>...</td>\n",
       "      <td>-0.638672</td>\n",
       "      <td>0.101288</td>\n",
       "      <td>-0.339846</td>\n",
       "      <td>0.167170</td>\n",
       "      <td>0.125895</td>\n",
       "      <td>-0.008983</td>\n",
       "      <td>0.014724</td>\n",
       "      <td>0</td>\n",
       "      <td>-0.342475</td>\n",
       "      <td>-0.342475</td>\n",
       "    </tr>\n",
       "    <tr>\n",
       "      <th>2</th>\n",
       "      <td>-1.358354</td>\n",
       "      <td>-1.340163</td>\n",
       "      <td>1.773209</td>\n",
       "      <td>0.379780</td>\n",
       "      <td>-0.503198</td>\n",
       "      <td>1.800499</td>\n",
       "      <td>0.791461</td>\n",
       "      <td>0.247676</td>\n",
       "      <td>-1.514654</td>\n",
       "      <td>0.207643</td>\n",
       "      <td>...</td>\n",
       "      <td>0.771679</td>\n",
       "      <td>0.909412</td>\n",
       "      <td>-0.689281</td>\n",
       "      <td>-0.327642</td>\n",
       "      <td>-0.139097</td>\n",
       "      <td>-0.055353</td>\n",
       "      <td>-0.059752</td>\n",
       "      <td>0</td>\n",
       "      <td>1.160686</td>\n",
       "      <td>1.160686</td>\n",
       "    </tr>\n",
       "    <tr>\n",
       "      <th>3</th>\n",
       "      <td>-0.966272</td>\n",
       "      <td>-0.185226</td>\n",
       "      <td>1.792993</td>\n",
       "      <td>-0.863291</td>\n",
       "      <td>-0.010309</td>\n",
       "      <td>1.247203</td>\n",
       "      <td>0.237609</td>\n",
       "      <td>0.377436</td>\n",
       "      <td>-1.387024</td>\n",
       "      <td>-0.054952</td>\n",
       "      <td>...</td>\n",
       "      <td>0.005274</td>\n",
       "      <td>-0.190321</td>\n",
       "      <td>-1.175575</td>\n",
       "      <td>0.647376</td>\n",
       "      <td>-0.221929</td>\n",
       "      <td>0.062723</td>\n",
       "      <td>0.061458</td>\n",
       "      <td>0</td>\n",
       "      <td>0.140534</td>\n",
       "      <td>0.140534</td>\n",
       "    </tr>\n",
       "    <tr>\n",
       "      <th>4</th>\n",
       "      <td>-1.158233</td>\n",
       "      <td>0.877737</td>\n",
       "      <td>1.548718</td>\n",
       "      <td>0.403034</td>\n",
       "      <td>-0.407193</td>\n",
       "      <td>0.095921</td>\n",
       "      <td>0.592941</td>\n",
       "      <td>-0.270533</td>\n",
       "      <td>0.817739</td>\n",
       "      <td>0.753074</td>\n",
       "      <td>...</td>\n",
       "      <td>0.798278</td>\n",
       "      <td>-0.137458</td>\n",
       "      <td>0.141267</td>\n",
       "      <td>-0.206010</td>\n",
       "      <td>0.502292</td>\n",
       "      <td>0.219422</td>\n",
       "      <td>0.215153</td>\n",
       "      <td>0</td>\n",
       "      <td>-0.073403</td>\n",
       "      <td>-0.073403</td>\n",
       "    </tr>\n",
       "  </tbody>\n",
       "</table>\n",
       "<p>5 rows × 31 columns</p>\n",
       "</div>"
      ],
      "text/plain": [
       "         V1        V2        V3        V4        V5        V6        V7  \\\n",
       "0 -1.359807 -0.072781  2.536347  1.378155 -0.338321  0.462388  0.239599   \n",
       "1  1.191857  0.266151  0.166480  0.448154  0.060018 -0.082361 -0.078803   \n",
       "2 -1.358354 -1.340163  1.773209  0.379780 -0.503198  1.800499  0.791461   \n",
       "3 -0.966272 -0.185226  1.792993 -0.863291 -0.010309  1.247203  0.237609   \n",
       "4 -1.158233  0.877737  1.548718  0.403034 -0.407193  0.095921  0.592941   \n",
       "\n",
       "         V8        V9       V10  ...       V22       V23       V24       V25  \\\n",
       "0  0.098698  0.363787  0.090794  ...  0.277838 -0.110474  0.066928  0.128539   \n",
       "1  0.085102 -0.255425 -0.166974  ... -0.638672  0.101288 -0.339846  0.167170   \n",
       "2  0.247676 -1.514654  0.207643  ...  0.771679  0.909412 -0.689281 -0.327642   \n",
       "3  0.377436 -1.387024 -0.054952  ...  0.005274 -0.190321 -1.175575  0.647376   \n",
       "4 -0.270533  0.817739  0.753074  ...  0.798278 -0.137458  0.141267 -0.206010   \n",
       "\n",
       "        V26       V27       V28  Class  normAmount  normTime  \n",
       "0 -0.189115  0.133558 -0.021053      0    0.244964  0.244964  \n",
       "1  0.125895 -0.008983  0.014724      0   -0.342475 -0.342475  \n",
       "2 -0.139097 -0.055353 -0.059752      0    1.160686  1.160686  \n",
       "3 -0.221929  0.062723  0.061458      0    0.140534  0.140534  \n",
       "4  0.502292  0.219422  0.215153      0   -0.073403 -0.073403  \n",
       "\n",
       "[5 rows x 31 columns]"
      ]
     },
     "execution_count": 6,
     "metadata": {},
     "output_type": "execute_result"
    }
   ],
   "source": [
    "data['normAmount'] = StandardScaler().fit_transform(data['Amount'].values.reshape(-1, 1))\n",
    "data['normTime'] = StandardScaler().fit_transform(data['Amount'].values.reshape(-1, 1))\n",
    "\n",
    "data = data.drop(['Time','Amount'],axis=1)\n",
    "data.head()"
   ]
  },
  {
   "cell_type": "markdown",
   "id": "d27a7c4d-caa8-49ef-8a80-83cb825ee7ae",
   "metadata": {},
   "source": [
    "# Model"
   ]
  },
  {
   "cell_type": "markdown",
   "id": "411a7293-c59f-4e8a-8140-d162d345dc95",
   "metadata": {},
   "source": [
    "Here we will have two approaches, the first will deal with unbalanced data and the other will ignore the unbalance"
   ]
  },
  {
   "cell_type": "markdown",
   "id": "8a8e1301-85eb-4643-927e-53b4e17ee808",
   "metadata": {},
   "source": [
    "## Dealing with Unbalance data"
   ]
  },
  {
   "cell_type": "markdown",
   "id": "5a2fe158-04aa-4487-9ead-77e37a58e562",
   "metadata": {},
   "source": [
    "Since our data have only 492 frauds('Class'==1) against 284315 non frauds,\n",
    "we need to overcome this by some approach like undersample or oversample.\n",
    "\n",
    "* First we will use recall, since its better to mistake and say that some transaction was a fraud than the contrariwise\n",
    "* Resemple the data(50/50) using undersample technique because works well when we have a lot of data."
   ]
  },
  {
   "cell_type": "markdown",
   "id": "49da5d33-bcc7-4196-99f7-f98293533728",
   "metadata": {},
   "source": [
    "### Undersampled"
   ]
  },
  {
   "cell_type": "markdown",
   "id": "2355a676-aa56-4682-8af4-38195e1c5783",
   "metadata": {},
   "source": [
    "First we get the numbers of data points in the minority class and pick up the indices of the majority and minority classes"
   ]
  },
  {
   "cell_type": "code",
   "execution_count": 9,
   "id": "96b347ff-39d6-4421-9418-53f6e10291a6",
   "metadata": {},
   "outputs": [],
   "source": [
    "# Numbers of data points in the minority class\n",
    "n_frauds = len(data[data.Class == 1])\n",
    "\n",
    "# Indices of the majority class\n",
    "non_fraud_indices = data[data.Class == 0].index\n",
    "# Indices of the minority class\n",
    "fraud_indices = np.array(data[data.Class == 1].index)"
   ]
  },
  {
   "cell_type": "markdown",
   "id": "af79429e-28c6-4909-bdeb-0b7fb3e4b2ab",
   "metadata": {},
   "source": [
    "Then we randomly select \"n_frauds\" indices of the majority class and concatenate them"
   ]
  },
  {
   "cell_type": "code",
   "execution_count": 10,
   "id": "74710ced-64a0-4a11-8cd6-87563fa086ed",
   "metadata": {},
   "outputs": [],
   "source": [
    "# Selecting \"n_frauds\" indices of the majority class\n",
    "random_non_fraud_indices = np.random.choice(non_fraud_indices, n_frauds, replace = False)\n",
    "random_non_fraud_indices = np.array(random_non_fraud_indices)\n",
    "\n",
    "# concatenate\n",
    "under_sample_indices = np.concatenate([random_non_fraud_indices, fraud_indices])"
   ]
  },
  {
   "cell_type": "markdown",
   "id": "d87f1d80-500c-4375-99b7-d72324d6dd9c",
   "metadata": {},
   "source": [
    "At last, we pick the data correspond to that indices and slip into X_undersample and y_undersample"
   ]
  },
  {
   "cell_type": "code",
   "execution_count": 11,
   "id": "a997e935-8067-4bdd-9599-9020a377461b",
   "metadata": {},
   "outputs": [],
   "source": [
    "# Under sample dataset\n",
    "under_sample_data = data.iloc[under_sample_indices,:]\n",
    "\n",
    "X_undersample = under_sample_data.loc[:, under_sample_data.columns != 'Class']\n",
    "y_undersample = under_sample_data.loc[:, under_sample_data.columns == 'Class']"
   ]
  },
  {
   "cell_type": "markdown",
   "id": "aba8d508-e7a3-4b09-82ea-02eb5a441f17",
   "metadata": {},
   "source": [
    "Checking the ratios"
   ]
  },
  {
   "cell_type": "code",
   "execution_count": 12,
   "id": "ea9b9a85-4d21-41d4-840a-9248f8f72b4a",
   "metadata": {},
   "outputs": [
    {
     "name": "stdout",
     "output_type": "stream",
     "text": [
      "Percentage of non fraud transactions:  0.5\n",
      "Percentage of fraud transactions:  0.5\n",
      "Total number of transactions in resampled data:  984\n"
     ]
    }
   ],
   "source": [
    "print(\"Percentage of non fraud transactions: \", len(under_sample_data[under_sample_data.Class == 0])/len(under_sample_data))\n",
    "print(\"Percentage of fraud transactions: \", len(under_sample_data[under_sample_data.Class == 1])/len(under_sample_data))\n",
    "print(\"Total number of transactions in resampled data: \", len(under_sample_data))"
   ]
  },
  {
   "cell_type": "markdown",
   "id": "99fd8bf8-6969-4a77-bd5f-4dc2da078302",
   "metadata": {},
   "source": [
    "## Split in train and test data"
   ]
  },
  {
   "cell_type": "markdown",
   "id": "1ee7e9a1-56e5-4d0c-afaa-dbd3df36c7ec",
   "metadata": {},
   "source": [
    "### Whole dataset"
   ]
  },
  {
   "cell_type": "code",
   "execution_count": 7,
   "id": "6a391f99-7e9a-45f2-924f-2e33a4740ca1",
   "metadata": {},
   "outputs": [
    {
     "name": "stdout",
     "output_type": "stream",
     "text": [
      "len of train dataset:  199364\n",
      "len of test dataset:  85443\n",
      "Total number of transactions:  284807\n"
     ]
    }
   ],
   "source": [
    "X = data.loc[:, data.columns != 'Class']\n",
    "y = data.loc[:, data.columns == 'Class']\n",
    "\n",
    "X_train, X_test, y_train, y_test = train_test_split(X,y,test_size = 0.3, random_state = 0)\n",
    "\n",
    "print(\"len of train dataset: \", len(X_train))\n",
    "print(\"len of test dataset: \", len(X_test))\n",
    "print(\"Total number of transactions: \", len(X_train)+len(X_test))"
   ]
  },
  {
   "cell_type": "markdown",
   "id": "c6fccbbe-9977-4b9f-ad28-af1f958f61c8",
   "metadata": {},
   "source": [
    "### Undersample dataset"
   ]
  },
  {
   "cell_type": "code",
   "execution_count": 13,
   "id": "8f9ef69f-8cab-40be-a668-3f4b1324d0e6",
   "metadata": {},
   "outputs": [
    {
     "name": "stdout",
     "output_type": "stream",
     "text": [
      "len of train dataset:  688\n",
      "len of test dataset:  296\n",
      "Total number of transactions:  984\n"
     ]
    }
   ],
   "source": [
    "X_train_undersample, X_test_undersample, y_train_undersample, y_test_undersample = train_test_split(X_undersample\n",
    "                                                                                                   ,y_undersample\n",
    "                                                                                                   ,test_size = 0.3\n",
    "                                                                                                   ,random_state = 0)\n",
    "\n",
    "print(\"len of train dataset: \", len(X_train_undersample))\n",
    "print(\"len of test dataset: \", len(X_test_undersample))\n",
    "print(\"Total number of transactions: \", len(X_train_undersample)+len(X_test_undersample))"
   ]
  },
  {
   "cell_type": "markdown",
   "id": "fc8b525b-ff18-4c5c-a984-adc6ef3a7d69",
   "metadata": {},
   "source": [
    "## Finding the best parameters"
   ]
  },
  {
   "cell_type": "markdown",
   "id": "a8f66bbb-aaea-4e48-8792-6cd2a5ac04dc",
   "metadata": {},
   "source": [
    "We will use a cross validation approach for each set of parameters,\n",
    "then we calcule the mean of recall and find the parameters that maximaxe that."
   ]
  },
  {
   "cell_type": "markdown",
   "id": "3ca6f369-7e89-415f-a297-9b5c96b158b3",
   "metadata": {},
   "source": [
    "### Whole dataset"
   ]
  },
  {
   "cell_type": "code",
   "execution_count": 17,
   "id": "af4c629b-f255-46bc-8776-814e5fd94668",
   "metadata": {
    "tags": []
   },
   "outputs": [
    {
     "name": "stdout",
     "output_type": "stream",
     "text": [
      "best_params:  {'C': 10, 'max_iter': 500, 'penalty': 'l1', 'solver': 'liblinear'}\n",
      "best_score:   0.6202898550724638\n"
     ]
    }
   ],
   "source": [
    "logistic_regression_params = {\n",
    "    \"penalty\": ['l1', 'l2'],\n",
    "    'C': [0.001, 0.01, 0.1, 1, 10, 100, 1000],\n",
    "    'max_iter': [500],\n",
    "    'solver':['liblinear']\n",
    "}\n",
    "\n",
    "grid_logistic_regression_params = GridSearchCV(\n",
    "    LogisticRegression(),\n",
    "    logistic_regression_params, \n",
    "    scoring='recall'\n",
    ")\n",
    "\n",
    "grid_logistic_regression_params.fit(\n",
    "    X_train,\n",
    "    y_train.values.ravel()\n",
    ")\n",
    "\n",
    "lr_model_with_whole_dataset = grid_logistic_regression_params.best_estimator_\n",
    "\n",
    "print('best_params: ', grid_logistic_regression_params.best_params_)\n",
    "print('best_score:  ', grid_logistic_regression_params.best_score_)"
   ]
  },
  {
   "cell_type": "markdown",
   "id": "a1b1fc5d-c43e-44ec-99de-cf6579815191",
   "metadata": {},
   "source": [
    "### Undersample dataset"
   ]
  },
  {
   "cell_type": "code",
   "execution_count": 18,
   "id": "839130e6-fee3-4ab6-882f-d20d92e37712",
   "metadata": {},
   "outputs": [
    {
     "name": "stderr",
     "output_type": "stream",
     "text": [
      "/media/desktop-mint/Dados/Projetos/kaggle/credit_fraud/env/lib/python3.8/site-packages/sklearn/svm/_base.py:1225: ConvergenceWarning: Liblinear failed to converge, increase the number of iterations.\n",
      "  warnings.warn(\n"
     ]
    },
    {
     "name": "stdout",
     "output_type": "stream",
     "text": [
      "best_params:  {'C': 0.001, 'max_iter': 500, 'penalty': 'l2', 'solver': 'liblinear'}\n",
      "best_score:   0.9649616368286444\n"
     ]
    }
   ],
   "source": [
    "logistic_regression_params = {\n",
    "    \"penalty\": ['l1', 'l2'],\n",
    "    'C': [0.001, 0.01, 0.1, 1, 10, 100, 1000],\n",
    "    'max_iter': [500],\n",
    "    'solver':['liblinear']\n",
    "}\n",
    "\n",
    "grid_logistic_regression_params = GridSearchCV(\n",
    "    LogisticRegression(),\n",
    "    logistic_regression_params, \n",
    "    scoring='recall'\n",
    ")\n",
    "\n",
    "grid_logistic_regression_params.fit(\n",
    "    X_train_undersample,\n",
    "    y_train_undersample.values.ravel()\n",
    ")\n",
    "\n",
    "lr_model_with_undersample_dataset = grid_logistic_regression_params.best_estimator_\n",
    "\n",
    "print('best_params: ', grid_logistic_regression_params.best_params_)\n",
    "print('best_score:  ', grid_logistic_regression_params.best_score_)"
   ]
  },
  {
   "cell_type": "markdown",
   "id": "47852574-7e4d-4d14-b4d3-27f683361070",
   "metadata": {},
   "source": [
    "# Model Evaluation"
   ]
  },
  {
   "cell_type": "markdown",
   "id": "a9d6f451-746a-4a07-97ad-31b4adbabbd1",
   "metadata": {},
   "source": [
    "## Confusion matrix"
   ]
  },
  {
   "cell_type": "markdown",
   "id": "08ef6a00-f08e-4101-b165-b8b03120d7b6",
   "metadata": {},
   "source": [
    "### Whole dataset"
   ]
  },
  {
   "cell_type": "code",
   "execution_count": 19,
   "id": "7348fb03-b807-4b41-a479-96e23214bc7a",
   "metadata": {},
   "outputs": [
    {
     "name": "stdout",
     "output_type": "stream",
     "text": [
      "Recall score:  0.6190476190476191\n"
     ]
    },
    {
     "data": {
      "image/png": "[encoded data removed]",
      "text/plain": [
       "<Figure size 432x288 with 2 Axes>"
      ]
     },
     "metadata": {
      "needs_background": "light"
     },
     "output_type": "display_data"
    }
   ],
   "source": [
    "y_pred = lr_model_with_whole_dataset.predict(X_test)\n",
    "\n",
    "# Compute confusion matrix\n",
    "cm = confusion_matrix(\n",
    "    y_test, \n",
    "    y_pred, \n",
    "    labels=lr_model_with_undersample_dataset.classes_\n",
    ")\n",
    "\n",
    "# Calcule the recall score\n",
    "recall_score_value = recall_score(y_test, y_pred)\n",
    "print(\"Recall score: \", recall_score_value)\n",
    "\n",
    "# display the confusion matrix\n",
    "disp = ConfusionMatrixDisplay(\n",
    "    confusion_matrix=cm,\n",
    "    display_labels=lr_model_with_undersample_dataset.classes_\n",
    ")\n",
    "\n",
    "disp.plot()\n",
    "plt.show();"
   ]
  },
  {
   "cell_type": "markdown",
   "id": "873c3610-4cbb-478e-9c53-1e63dc3bee28",
   "metadata": {},
   "source": [
    "### Undersample dataset"
   ]
  },
  {
   "cell_type": "code",
   "execution_count": 20,
   "id": "a0c990ff-db36-4ff7-b3a9-6b908c278a7d",
   "metadata": {},
   "outputs": [
    {
     "name": "stdout",
     "output_type": "stream",
     "text": [
      "Recall score:  0.9664429530201343\n"
     ]
    },
    {
     "data": {
      "image/png": "[encoded data removed]",
      "text/plain": [
       "<Figure size 432x288 with 2 Axes>"
      ]
     },
     "metadata": {
      "needs_background": "light"
     },
     "output_type": "display_data"
    }
   ],
   "source": [
    "y_pred_undersample = lr_model_with_undersample_dataset.predict(X_test_undersample)\n",
    "\n",
    "# Compute confusion matrix\n",
    "cm = confusion_matrix(\n",
    "    y_test_undersample, \n",
    "    y_pred_undersample, \n",
    "    labels=lr_model_with_undersample_dataset.classes_\n",
    ")\n",
    "\n",
    "# Calcule the recall score\n",
    "recall_score_value = recall_score(y_test_undersample, y_pred_undersample)\n",
    "print(\"Recall score: \", recall_score_value)\n",
    "\n",
    "# display the confusion matrix\n",
    "disp = ConfusionMatrixDisplay(\n",
    "    confusion_matrix=cm,\n",
    "    display_labels=lr_model_with_undersample_dataset.classes_\n",
    ")\n",
    "\n",
    "disp.plot()\n",
    "plt.show();"
   ]
  },
  {
   "cell_type": "markdown",
   "id": "0f73b3b4-1bec-4421-b36b-06cdbd62a9b1",
   "metadata": {},
   "source": [
    "## Plotting ROC Curve "
   ]
  },
  {
   "cell_type": "markdown",
   "id": "ba9d6bdd-ea74-4cd2-b521-e75af0ac7a36",
   "metadata": {},
   "source": [
    "### Whole dataset"
   ]
  },
  {
   "cell_type": "code",
   "execution_count": 22,
   "id": "0433ed3f-b901-4149-8e9d-8142f75de568",
   "metadata": {},
   "outputs": [
    {
     "data": {
      "image/png": "[encoded data removed]",
      "text/plain": [
       "<Figure size 432x288 with 1 Axes>"
      ]
     },
     "metadata": {
      "needs_background": "light"
     },
     "output_type": "display_data"
    }
   ],
   "source": [
    "y_pred = lr_model_with_whole_dataset.decision_function(X_test)\n",
    "RocCurveDisplay.from_predictions(y_test.values.ravel(), y_pred)\n",
    "plt.show();"
   ]
  },
  {
   "cell_type": "markdown",
   "id": "11ddbab3-ddbc-4832-81d2-b4c2e825e144",
   "metadata": {},
   "source": [
    "### Undersample dataset"
   ]
  },
  {
   "cell_type": "code",
   "execution_count": 21,
   "id": "3921d296-615f-41c1-a32e-d16266343574",
   "metadata": {},
   "outputs": [
    {
     "data": {
      "image/png": "[encoded data removed]",
      "text/plain": [
       "<Figure size 432x288 with 1 Axes>"
      ]
     },
     "metadata": {
      "needs_background": "light"
     },
     "output_type": "display_data"
    }
   ],
   "source": [
    "y_pred_undersample = lr_model_with_undersample_dataset.decision_function(X_test_undersample)\n",
    "RocCurveDisplay.from_predictions(y_test_undersample.values.ravel(), y_pred_undersample)\n",
    "plt.show();"
   ]
  },
  {
   "cell_type": "markdown",
   "id": "3a376d8f-4406-4197-bab6-6d72d7ca11f6",
   "metadata": {},
   "source": [
    "# Conclusion"
   ]
  },
  {
   "cell_type": "markdown",
   "id": "a54b7e57-fdea-46da-9b5b-5f4e6bd3ab52",
   "metadata": {},
   "source": [
    "The project beggin with some inquires, then we check for multicolinearity and rescale the necessary data. Two approaches was choosen, one with undersample technique and another without, both combined with a cross validation technique for finding the best parameters. The results shows that the undersample approach was higher with a recall score on test data of <b>0.96</b> against <b>0.61</b> without undersample. Which leads us with the choice of undersample technique as a better approach to the final model."
   ]
  },
  {
   "cell_type": "markdown",
   "id": "74bbb125-becf-4884-bed9-c4dbc4c87632",
   "metadata": {},
   "source": [
    "# References"
   ]
  },
  {
   "cell_type": "markdown",
   "id": "ec4192af-affa-4348-bb9a-e6982ac0f7fa",
   "metadata": {},
   "source": [
    "https://www.kaggle.com/datasets/mlg-ulb/creditcardfraud"
   ]
  },
  {
   "cell_type": "markdown",
   "id": "5c83c8b7-c761-4d11-af79-5ece49f1b144",
   "metadata": {},
   "source": [
    "https://www.kaggle.com/code/joparga3/in-depth-skewed-data-classif-93-recall-acc-now/notebook"
   ]
  },
  {
   "cell_type": "markdown",
   "id": "68b70d83-1097-46cd-9913-ad64d34a7cd7",
   "metadata": {},
   "source": [
    "https://www.marcoaltini.com/blog/dealing-with-imbalanced-data-undersampling-oversampling-and-proper-cross-validation"
   ]
  }
 ],
 "metadata": {
  "kernelspec": {
   "display_name": "Python 3 (ipykernel)",
   "language": "python",
   "name": "python3"
  },
  "language_info": {
   "codemirror_mode": {
    "name": "ipython",
    "version": 3
   },
   "file_extension": ".py",
   "mimetype": "text/x-python",
   "name": "python",
   "nbconvert_exporter": "python",
   "pygments_lexer": "ipython3",
   "version": "3.8.10"
  },
  "toc-autonumbering": true
 },
 "nbformat": 4,
 "nbformat_minor": 5
}
